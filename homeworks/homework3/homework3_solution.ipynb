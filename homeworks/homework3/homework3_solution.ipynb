{
 "cells": [
  {
   "cell_type": "markdown",
   "metadata": {},
   "source": [
    "# 12-752: Data-Driven Building Energy Management\n",
    "## Fall 2016, Carnegie Mellon University\n",
    "\n",
    "## Assignment \\#3"
   ]
  },
  {
   "cell_type": "markdown",
   "metadata": {},
   "source": [
    "We will begin by unpickling the dataset containing the loadCurves that we had used in Assignment \\#2. \n",
    "\n",
    "But first, as always, we will load most modules we will be using:"
   ]
  },
  {
   "cell_type": "code",
   "execution_count": 114,
   "metadata": {
    "collapsed": true
   },
   "outputs": [],
   "source": [
    "import numpy as np\n",
    "import matplotlib.pyplot as plt\n",
    "import pandas as pd\n",
    "import pickle\n",
    "\n",
    "%matplotlib inline"
   ]
  },
  {
   "cell_type": "markdown",
   "metadata": {},
   "source": [
    "Now let's load the load curve dataset:"
   ]
  },
  {
   "cell_type": "code",
   "execution_count": 115,
   "metadata": {
    "collapsed": false
   },
   "outputs": [],
   "source": [
    "pkf = open('../../lectures/data/loadCurves.pkl','rb')\n",
    "data,loadCurves = pickle.load(pkf)\n",
    "pkf.close()"
   ]
  },
  {
   "cell_type": "markdown",
   "metadata": {},
   "source": [
    "Because the dataset we have is not sufficient to run an interesting regression task, we will also load a temperature dataset which shows 5-minute interval temperatures measured on the rooftop of Margaret Morrison at CMU.\n",
    "\n",
    "You will find this dataset on BlackBoard. Download it and then load it into a new DataFrame called ```temperature```."
   ]
  },
  {
   "cell_type": "markdown",
   "metadata": {},
   "source": [
    "## Task \\#1 [10%]\n",
    "\n",
    "Create a new DataFrame with the temperature data, and set the index to be the Timestamp."
   ]
  },
  {
   "cell_type": "code",
   "execution_count": 116,
   "metadata": {
    "collapsed": false
   },
   "outputs": [],
   "source": [
    "# Your code goes here\n",
    "\n",
    "f = open('../../lectures/data/temperature.csv')\n",
    "temperature = pd.read_csv(f,sep=',', header='infer', parse_dates=[0],index_col=0)\n",
    "f.close()\n",
    "temperature.index\n",
    "data = data.set_index(['Time'])"
   ]
  },
  {
   "cell_type": "code",
   "execution_count": 117,
   "metadata": {
    "collapsed": false
   },
   "outputs": [
    {
     "data": {
      "text/html": [
       "<div>\n",
       "<table border=\"1\" class=\"dataframe\">\n",
       "  <thead>\n",
       "    <tr style=\"text-align: right;\">\n",
       "      <th></th>\n",
       "      <th>IW.Weather.Kpit56.Csv.Temp</th>\n",
       "    </tr>\n",
       "    <tr>\n",
       "      <th>Timestamp</th>\n",
       "      <th></th>\n",
       "    </tr>\n",
       "  </thead>\n",
       "  <tbody>\n",
       "    <tr>\n",
       "      <th>2013-11-10 05:00:00</th>\n",
       "      <td>54.430</td>\n",
       "    </tr>\n",
       "    <tr>\n",
       "      <th>2013-11-10 05:05:00</th>\n",
       "      <td>54.691</td>\n",
       "    </tr>\n",
       "    <tr>\n",
       "      <th>2013-11-10 05:10:00</th>\n",
       "      <td>54.604</td>\n",
       "    </tr>\n",
       "    <tr>\n",
       "      <th>2013-11-10 05:15:00</th>\n",
       "      <td>54.648</td>\n",
       "    </tr>\n",
       "    <tr>\n",
       "      <th>2013-11-10 05:20:00</th>\n",
       "      <td>54.648</td>\n",
       "    </tr>\n",
       "    <tr>\n",
       "      <th>2013-11-10 05:25:00</th>\n",
       "      <td>54.734</td>\n",
       "    </tr>\n",
       "    <tr>\n",
       "      <th>2013-11-10 05:30:00</th>\n",
       "      <td>54.734</td>\n",
       "    </tr>\n",
       "    <tr>\n",
       "      <th>2013-11-10 05:35:00</th>\n",
       "      <td>54.734</td>\n",
       "    </tr>\n",
       "    <tr>\n",
       "      <th>2013-11-10 05:40:00</th>\n",
       "      <td>54.604</td>\n",
       "    </tr>\n",
       "    <tr>\n",
       "      <th>2013-11-10 05:45:00</th>\n",
       "      <td>54.516</td>\n",
       "    </tr>\n",
       "    <tr>\n",
       "      <th>2013-11-10 05:50:00</th>\n",
       "      <td>54.387</td>\n",
       "    </tr>\n",
       "    <tr>\n",
       "      <th>2013-11-10 05:55:00</th>\n",
       "      <td>54.561</td>\n",
       "    </tr>\n",
       "    <tr>\n",
       "      <th>2013-11-10 06:00:00</th>\n",
       "      <td>54.212</td>\n",
       "    </tr>\n",
       "    <tr>\n",
       "      <th>2013-11-10 06:05:00</th>\n",
       "      <td>54.255</td>\n",
       "    </tr>\n",
       "    <tr>\n",
       "      <th>2013-11-10 06:10:00</th>\n",
       "      <td>54.082</td>\n",
       "    </tr>\n",
       "    <tr>\n",
       "      <th>2013-11-10 06:15:00</th>\n",
       "      <td>53.865</td>\n",
       "    </tr>\n",
       "    <tr>\n",
       "      <th>2013-11-10 06:20:00</th>\n",
       "      <td>53.776</td>\n",
       "    </tr>\n",
       "    <tr>\n",
       "      <th>2013-11-10 06:25:00</th>\n",
       "      <td>53.602</td>\n",
       "    </tr>\n",
       "    <tr>\n",
       "      <th>2013-11-10 06:30:00</th>\n",
       "      <td>53.341</td>\n",
       "    </tr>\n",
       "    <tr>\n",
       "      <th>2013-11-10 06:35:00</th>\n",
       "      <td>53.515</td>\n",
       "    </tr>\n",
       "    <tr>\n",
       "      <th>2013-11-10 06:40:00</th>\n",
       "      <td>53.559</td>\n",
       "    </tr>\n",
       "    <tr>\n",
       "      <th>2013-11-10 06:45:00</th>\n",
       "      <td>53.515</td>\n",
       "    </tr>\n",
       "    <tr>\n",
       "      <th>2013-11-10 06:50:00</th>\n",
       "      <td>53.602</td>\n",
       "    </tr>\n",
       "    <tr>\n",
       "      <th>2013-11-10 06:55:00</th>\n",
       "      <td>53.515</td>\n",
       "    </tr>\n",
       "    <tr>\n",
       "      <th>2013-11-10 07:00:00</th>\n",
       "      <td>53.472</td>\n",
       "    </tr>\n",
       "    <tr>\n",
       "      <th>2013-11-10 07:05:00</th>\n",
       "      <td>53.298</td>\n",
       "    </tr>\n",
       "    <tr>\n",
       "      <th>2013-11-10 07:10:00</th>\n",
       "      <td>53.166</td>\n",
       "    </tr>\n",
       "    <tr>\n",
       "      <th>2013-11-10 07:15:00</th>\n",
       "      <td>53.121</td>\n",
       "    </tr>\n",
       "    <tr>\n",
       "      <th>2013-11-10 07:20:00</th>\n",
       "      <td>53.078</td>\n",
       "    </tr>\n",
       "    <tr>\n",
       "      <th>2013-11-10 07:25:00</th>\n",
       "      <td>52.817</td>\n",
       "    </tr>\n",
       "    <tr>\n",
       "      <th>...</th>\n",
       "      <td>...</td>\n",
       "    </tr>\n",
       "    <tr>\n",
       "      <th>2014-11-11 02:35:00</th>\n",
       "      <td>57.070</td>\n",
       "    </tr>\n",
       "    <tr>\n",
       "      <th>2014-11-11 02:40:00</th>\n",
       "      <td>56.820</td>\n",
       "    </tr>\n",
       "    <tr>\n",
       "      <th>2014-11-11 02:45:00</th>\n",
       "      <td>56.890</td>\n",
       "    </tr>\n",
       "    <tr>\n",
       "      <th>2014-11-11 02:50:00</th>\n",
       "      <td>56.730</td>\n",
       "    </tr>\n",
       "    <tr>\n",
       "      <th>2014-11-11 02:55:00</th>\n",
       "      <td>56.610</td>\n",
       "    </tr>\n",
       "    <tr>\n",
       "      <th>2014-11-11 03:00:00</th>\n",
       "      <td>56.610</td>\n",
       "    </tr>\n",
       "    <tr>\n",
       "      <th>2014-11-11 03:05:00</th>\n",
       "      <td>56.610</td>\n",
       "    </tr>\n",
       "    <tr>\n",
       "      <th>2014-11-11 03:10:00</th>\n",
       "      <td>56.730</td>\n",
       "    </tr>\n",
       "    <tr>\n",
       "      <th>2014-11-11 03:15:00</th>\n",
       "      <td>56.730</td>\n",
       "    </tr>\n",
       "    <tr>\n",
       "      <th>2014-11-11 03:20:00</th>\n",
       "      <td>56.770</td>\n",
       "    </tr>\n",
       "    <tr>\n",
       "      <th>2014-11-11 03:25:00</th>\n",
       "      <td>56.430</td>\n",
       "    </tr>\n",
       "    <tr>\n",
       "      <th>2014-11-11 03:30:00</th>\n",
       "      <td>56.300</td>\n",
       "    </tr>\n",
       "    <tr>\n",
       "      <th>2014-11-11 03:35:00</th>\n",
       "      <td>56.390</td>\n",
       "    </tr>\n",
       "    <tr>\n",
       "      <th>2014-11-11 03:40:00</th>\n",
       "      <td>56.520</td>\n",
       "    </tr>\n",
       "    <tr>\n",
       "      <th>2014-11-11 03:45:00</th>\n",
       "      <td>56.610</td>\n",
       "    </tr>\n",
       "    <tr>\n",
       "      <th>2014-11-11 03:50:00</th>\n",
       "      <td>56.390</td>\n",
       "    </tr>\n",
       "    <tr>\n",
       "      <th>2014-11-11 03:55:00</th>\n",
       "      <td>56.210</td>\n",
       "    </tr>\n",
       "    <tr>\n",
       "      <th>2014-11-11 04:00:00</th>\n",
       "      <td>56.120</td>\n",
       "    </tr>\n",
       "    <tr>\n",
       "      <th>2014-11-11 04:05:00</th>\n",
       "      <td>55.960</td>\n",
       "    </tr>\n",
       "    <tr>\n",
       "      <th>2014-11-11 04:10:00</th>\n",
       "      <td>55.870</td>\n",
       "    </tr>\n",
       "    <tr>\n",
       "      <th>2014-11-11 04:15:00</th>\n",
       "      <td>55.780</td>\n",
       "    </tr>\n",
       "    <tr>\n",
       "      <th>2014-11-11 04:20:00</th>\n",
       "      <td>55.690</td>\n",
       "    </tr>\n",
       "    <tr>\n",
       "      <th>2014-11-11 04:25:00</th>\n",
       "      <td>55.625</td>\n",
       "    </tr>\n",
       "    <tr>\n",
       "      <th>2014-11-11 04:30:00</th>\n",
       "      <td>55.560</td>\n",
       "    </tr>\n",
       "    <tr>\n",
       "      <th>2014-11-11 04:35:00</th>\n",
       "      <td>55.390</td>\n",
       "    </tr>\n",
       "    <tr>\n",
       "      <th>2014-11-11 04:40:00</th>\n",
       "      <td>55.220</td>\n",
       "    </tr>\n",
       "    <tr>\n",
       "      <th>2014-11-11 04:45:00</th>\n",
       "      <td>55.085</td>\n",
       "    </tr>\n",
       "    <tr>\n",
       "      <th>2014-11-11 04:50:00</th>\n",
       "      <td>54.950</td>\n",
       "    </tr>\n",
       "    <tr>\n",
       "      <th>2014-11-11 04:55:00</th>\n",
       "      <td>54.860</td>\n",
       "    </tr>\n",
       "    <tr>\n",
       "      <th>2014-11-11 05:00:00</th>\n",
       "      <td>54.640</td>\n",
       "    </tr>\n",
       "  </tbody>\n",
       "</table>\n",
       "<p>105409 rows × 1 columns</p>\n",
       "</div>"
      ],
      "text/plain": [
       "                     IW.Weather.Kpit56.Csv.Temp\n",
       "Timestamp                                      \n",
       "2013-11-10 05:00:00                      54.430\n",
       "2013-11-10 05:05:00                      54.691\n",
       "2013-11-10 05:10:00                      54.604\n",
       "2013-11-10 05:15:00                      54.648\n",
       "2013-11-10 05:20:00                      54.648\n",
       "2013-11-10 05:25:00                      54.734\n",
       "2013-11-10 05:30:00                      54.734\n",
       "2013-11-10 05:35:00                      54.734\n",
       "2013-11-10 05:40:00                      54.604\n",
       "2013-11-10 05:45:00                      54.516\n",
       "2013-11-10 05:50:00                      54.387\n",
       "2013-11-10 05:55:00                      54.561\n",
       "2013-11-10 06:00:00                      54.212\n",
       "2013-11-10 06:05:00                      54.255\n",
       "2013-11-10 06:10:00                      54.082\n",
       "2013-11-10 06:15:00                      53.865\n",
       "2013-11-10 06:20:00                      53.776\n",
       "2013-11-10 06:25:00                      53.602\n",
       "2013-11-10 06:30:00                      53.341\n",
       "2013-11-10 06:35:00                      53.515\n",
       "2013-11-10 06:40:00                      53.559\n",
       "2013-11-10 06:45:00                      53.515\n",
       "2013-11-10 06:50:00                      53.602\n",
       "2013-11-10 06:55:00                      53.515\n",
       "2013-11-10 07:00:00                      53.472\n",
       "2013-11-10 07:05:00                      53.298\n",
       "2013-11-10 07:10:00                      53.166\n",
       "2013-11-10 07:15:00                      53.121\n",
       "2013-11-10 07:20:00                      53.078\n",
       "2013-11-10 07:25:00                      52.817\n",
       "...                                         ...\n",
       "2014-11-11 02:35:00                      57.070\n",
       "2014-11-11 02:40:00                      56.820\n",
       "2014-11-11 02:45:00                      56.890\n",
       "2014-11-11 02:50:00                      56.730\n",
       "2014-11-11 02:55:00                      56.610\n",
       "2014-11-11 03:00:00                      56.610\n",
       "2014-11-11 03:05:00                      56.610\n",
       "2014-11-11 03:10:00                      56.730\n",
       "2014-11-11 03:15:00                      56.730\n",
       "2014-11-11 03:20:00                      56.770\n",
       "2014-11-11 03:25:00                      56.430\n",
       "2014-11-11 03:30:00                      56.300\n",
       "2014-11-11 03:35:00                      56.390\n",
       "2014-11-11 03:40:00                      56.520\n",
       "2014-11-11 03:45:00                      56.610\n",
       "2014-11-11 03:50:00                      56.390\n",
       "2014-11-11 03:55:00                      56.210\n",
       "2014-11-11 04:00:00                      56.120\n",
       "2014-11-11 04:05:00                      55.960\n",
       "2014-11-11 04:10:00                      55.870\n",
       "2014-11-11 04:15:00                      55.780\n",
       "2014-11-11 04:20:00                      55.690\n",
       "2014-11-11 04:25:00                      55.625\n",
       "2014-11-11 04:30:00                      55.560\n",
       "2014-11-11 04:35:00                      55.390\n",
       "2014-11-11 04:40:00                      55.220\n",
       "2014-11-11 04:45:00                      55.085\n",
       "2014-11-11 04:50:00                      54.950\n",
       "2014-11-11 04:55:00                      54.860\n",
       "2014-11-11 05:00:00                      54.640\n",
       "\n",
       "[105409 rows x 1 columns]"
      ]
     },
     "execution_count": 117,
     "metadata": {},
     "output_type": "execute_result"
    }
   ],
   "source": [
    "temperature"
   ]
  },
  {
   "cell_type": "markdown",
   "metadata": {},
   "source": [
    "Since the power consumption time series has a different sampling frequency, we need to resample the datasets so that they have the same frequency."
   ]
  },
  {
   "cell_type": "markdown",
   "metadata": {},
   "source": [
    "## Task \\#2 [10%]:\n",
    "\n",
    "Resample the original ```data``` and ```temperature``` DataFrames to one sample every five minutes. You can use any resampling technique, though an averaging method is probably the most appropriate here."
   ]
  },
  {
   "cell_type": "code",
   "execution_count": 118,
   "metadata": {
    "collapsed": false
   },
   "outputs": [],
   "source": [
    "# Your code goes here...\n",
    "power = data.resample('5T').mean()\n",
    "temperature = temperature.resample('5T').mean()"
   ]
  },
  {
   "cell_type": "markdown",
   "metadata": {},
   "source": [
    "It may be easier to join both DataFrames into one. Let's do that."
   ]
  },
  {
   "cell_type": "markdown",
   "metadata": {},
   "source": [
    "## Task #3 [5%]:\n",
    "\n",
    "Create a new DataFrame called ```alldata``` which is an inner join of the temperature and power datasets (i.e. the rows of ```aldata``` will be those with a timestamp that is present in both the electric power time series *and* the temperature time series).\n",
    "\n",
    "For good measure, rename the columns of the resulting DataFrame to make them more descriptive and concise."
   ]
  },
  {
   "cell_type": "code",
   "execution_count": 119,
   "metadata": {
    "collapsed": false
   },
   "outputs": [],
   "source": [
    "# Your code goes here.\n",
    "\n",
    "alldata = power.join(temperature,how='inner')\n",
    "alldata.rename(columns={'IW.Weather.Kpit56.Csv.Temp': 'Temperature', 'Value': 'Power'},inplace=True)"
   ]
  },
  {
   "cell_type": "markdown",
   "metadata": {},
   "source": [
    "Depending on how you answered the previous question, there is a chance that some of the entries of your DataFrame contain *null* values. There is a convenient method for DataFrames called ```isnull()``` which you can use to check this. "
   ]
  },
  {
   "cell_type": "markdown",
   "metadata": {},
   "source": [
    "## Task #4 [5%]:\n",
    "\n",
    "Find out how many *null* values there are in the DataFrame. \n",
    "\n",
    "Using your method of choice (e.g., interpolation) fill those values so that they don't exist anymore and make a copy of the resulting DataFrame.\n",
    "\n",
    "Comment on why these *null* values showed up.\n"
   ]
  },
  {
   "cell_type": "code",
   "execution_count": 120,
   "metadata": {
    "collapsed": true
   },
   "outputs": [],
   "source": [
    "# Your code goes here...\n",
    "\n",
    "originaldata = alldata\n",
    "alldata.interpolate(inplace=True)\n",
    "\n",
    "# This also means that all of the derived columns need to be recomputed as they make no sense anymore (i.e., the Hour, DayOfYear and Weekday cannot be reasonably interpolated)\n",
    "\n",
    "alldata['DayOfYear'] = alldata.index.dayofyear\n",
    "alldata['Weekday'] = alldata.index.dayofweek\n",
    "alldata['Hour'] = alldata.index.hour\n",
    "\n",
    "# To check the results\n",
    "## plt.plot(originaldata[alldata.isnull().apply(np.any,axis=1)],'rx')\n",
    "# alldata.isnull().any().any()"
   ]
  },
  {
   "cell_type": "markdown",
   "metadata": {
    "collapsed": false
   },
   "source": [
    "Now let's turn our attention to the task of fitting a model for regression. To start, let's visualize the time series and the relationship between them."
   ]
  },
  {
   "cell_type": "markdown",
   "metadata": {},
   "source": [
    "## Task \\#5 [10%]:\n",
    "\n",
    "Create a line plot with two separate vertical axes showing the Power and Temperature time series (e.g., one vertical axis for temperature and the other one for power, against a single time axis).\n",
    "\n",
    "Then create a scatter plot for Power (y-axis) versus Temperature (x-axis)."
   ]
  },
  {
   "cell_type": "code",
   "execution_count": 121,
   "metadata": {
    "collapsed": false
   },
   "outputs": [
    {
     "data": {
      "image/png": "[encoded data removed]",
      "text/plain": [
       "<matplotlib.figure.Figure at 0x125d8fef0>"
      ]
     },
     "metadata": {},
     "output_type": "display_data"
    },
    {
     "data": {
      "text/plain": [
       "[<matplotlib.lines.Line2D at 0x1285dfbe0>]"
      ]
     },
     "execution_count": 121,
     "metadata": {},
     "output_type": "execute_result"
    },
    {
     "data": {
      "image/png": "[encoded data removed]",
      "text/plain": [
       "<matplotlib.figure.Figure at 0x1261a8198>"
      ]
     },
     "metadata": {},
     "output_type": "display_data"
    }
   ],
   "source": [
    "# Your code goes here...\n",
    "\n",
    "fig, ax1 = plt.subplots()\n",
    "ax1.plot(alldata['Power'], 'b-')\n",
    "ax1.set_ylabel('Power', color='b')\n",
    "for tl in ax1.get_yticklabels():\n",
    "    tl.set_color('b')\n",
    "\n",
    "ax2 = ax1.twinx()\n",
    "ax2.plot(alldata['Temperature'], 'r-')\n",
    "ax2.set_ylabel('Temperature', color='r')\n",
    "for t1 in ax2.get_yticklabels():\n",
    "    t1.set_color('r')\n",
    "    \n",
    "plt.show()\n",
    "\n",
    "fig2 = plt.figure()\n",
    "plt.plot(alldata['Temperature'],alldata['Power'],'.')\n"
   ]
  },
  {
   "cell_type": "markdown",
   "metadata": {},
   "source": [
    "# Task \\#6 [40%]:\n",
    "\n",
    "Separate the data into the features (X) and the response values (Y). Assume, to start, that the features are 'Hour','Weekday' and 'Temperature'; and that the response values are 'Power'.\n",
    "\n",
    "**(a: 10%)** Fit a regression tree to the whole dataset. In other words, your fitted tree should be able to predict the power consumption for campus when given the hour of the day, day of the week and temperature for a specific time. Calculate the score of your fit (i.e., the R^2 value for your prediction).\n",
    "\n",
    "**(b: 20%)** Now, rearrange X and Y such that your response values are no longer scalars, but instead a vector of 1 hour periods (i.e., 12 continguous values at the 5-minute resolution). Using this arrangement, fit another regression tree (multi-output) \n",
    "\n",
    "**(c: 5%)** Using 10-fold cross-validation, figure out how to best optimize the performance (score) of your model on the dataset, by tweaking the way you are configuring the features X.\n",
    "\n",
    "**(d: 5%)** Download the 2015 dataset for the campus power consumption (and temperature), and test the results of your trained model (the best one you found in the previous step on that dataset."
   ]
  },
  {
   "cell_type": "code",
   "execution_count": 169,
   "metadata": {
    "collapsed": false
   },
   "outputs": [],
   "source": [
    "X = alldata[['Hour','Weekday','Temperature']]\n",
    "Y = alldata['Power']"
   ]
  },
  {
   "cell_type": "code",
   "execution_count": 170,
   "metadata": {
    "collapsed": false
   },
   "outputs": [
    {
     "data": {
      "text/plain": [
       "DecisionTreeRegressor(criterion='mse', max_depth=15, max_features=None,\n",
       "           max_leaf_nodes=None, min_samples_leaf=1, min_samples_split=2,\n",
       "           min_weight_fraction_leaf=0.0, presort=False, random_state=None,\n",
       "           splitter='best')"
      ]
     },
     "execution_count": 170,
     "metadata": {},
     "output_type": "execute_result"
    }
   ],
   "source": [
    "\n",
    "from sklearn import tree\n",
    "reg = tree.DecisionTreeRegressor(max_depth=15)\n",
    "reg.fit(X,Y)\n"
   ]
  },
  {
   "cell_type": "markdown",
   "metadata": {},
   "source": [
    "Let's see how much power consumption the fitted tree predicts for a Wednesday at 2am if it is 40F:"
   ]
  },
  {
   "cell_type": "code",
   "execution_count": 171,
   "metadata": {
    "collapsed": false
   },
   "outputs": [
    {
     "data": {
      "text/plain": [
       "array([ 8065.45206226])"
      ]
     },
     "execution_count": 171,
     "metadata": {},
     "output_type": "execute_result"
    }
   ],
   "source": [
    "reg.predict(np.array([2,3,40]).reshape(1,-1))"
   ]
  },
  {
   "cell_type": "markdown",
   "metadata": {},
   "source": [
    "Now let's see, overall, how well the tree did in the regression task. This is the coefficient of determination (R2):"
   ]
  },
  {
   "cell_type": "code",
   "execution_count": 172,
   "metadata": {
    "collapsed": false
   },
   "outputs": [
    {
     "data": {
      "text/plain": [
       "0.83273088957901376"
      ]
     },
     "execution_count": 172,
     "metadata": {},
     "output_type": "execute_result"
    }
   ],
   "source": [
    "reg.score(X,Y)"
   ]
  },
  {
   "cell_type": "code",
   "execution_count": 173,
   "metadata": {
    "collapsed": false
   },
   "outputs": [
    {
     "data": {
      "text/plain": [
       "array([ 7994.220675  ,  7994.220675  ,  7994.220675  , ...,  3451.249075  ,\n",
       "        3451.249075  ,  7030.83438033])"
      ]
     },
     "execution_count": 173,
     "metadata": {},
     "output_type": "execute_result"
    }
   ],
   "source": [
    "reg.predict(X)"
   ]
  },
  {
   "cell_type": "markdown",
   "metadata": {},
   "source": [
    "Let's see how that looks:"
   ]
  },
  {
   "cell_type": "code",
   "execution_count": 174,
   "metadata": {
    "collapsed": false
   },
   "outputs": [
    {
     "data": {
      "text/plain": [
       "[<matplotlib.lines.Line2D at 0x1377dd550>]"
      ]
     },
     "execution_count": 174,
     "metadata": {},
     "output_type": "execute_result"
    },
    {
     "data": {
      "image/png": "[encoded data removed]",
      "text/plain": [
       "<matplotlib.figure.Figure at 0x128888ef0>"
      ]
     },
     "metadata": {},
     "output_type": "display_data"
    }
   ],
   "source": [
    "plt.plot(reg.predict(X),'--r')\n",
    "plt.plot(alldata['Power'].values,'-b')"
   ]
  },
  {
   "cell_type": "code",
   "execution_count": 175,
   "metadata": {
    "collapsed": false
   },
   "outputs": [],
   "source": [
    "# Task 6.b\n",
    "Y_multi = []\n",
    "for i in range(len(alldata)):\n",
    "    Y_multi.append(np.array(alldata[i:i+12]['Power']))\n"
   ]
  },
  {
   "cell_type": "code",
   "execution_count": 176,
   "metadata": {
    "collapsed": false
   },
   "outputs": [
    {
     "data": {
      "text/plain": [
       "DecisionTreeRegressor(criterion='mse', max_depth=15, max_features=None,\n",
       "           max_leaf_nodes=None, min_samples_leaf=1, min_samples_split=2,\n",
       "           min_weight_fraction_leaf=0.0, presort=False, random_state=None,\n",
       "           splitter='best')"
      ]
     },
     "execution_count": 176,
     "metadata": {},
     "output_type": "execute_result"
    }
   ],
   "source": [
    "reg_multi = tree.DecisionTreeRegressor(max_depth=15)\n",
    "# X = X[0:-12:12]\n",
    "# X = X.resample('1H').mean()[0:-1]\n",
    "\n",
    "reg_multi.fit(X[0:-12:12],Y[0:-12:12])"
   ]
  },
  {
   "cell_type": "code",
   "execution_count": 177,
   "metadata": {
    "collapsed": false
   },
   "outputs": [
    {
     "data": {
      "text/plain": [
       "array([ 8129.22879583])"
      ]
     },
     "execution_count": 177,
     "metadata": {},
     "output_type": "execute_result"
    }
   ],
   "source": [
    "reg_multi.predict(np.array([2,3,40]).reshape(1,-1))"
   ]
  },
  {
   "cell_type": "code",
   "execution_count": 178,
   "metadata": {
    "collapsed": false
   },
   "outputs": [
    {
     "ename": "ValueError",
     "evalue": "y_true and y_pred have different number of output (12!=1)",
     "output_type": "error",
     "traceback": [
      "\u001b[0;31m---------------------------------------------------------------------------\u001b[0m",
      "\u001b[0;31mValueError\u001b[0m                                Traceback (most recent call last)",
      "\u001b[0;32m<ipython-input-178-2812e436f4e7>\u001b[0m in \u001b[0;36m<module>\u001b[0;34m()\u001b[0m\n\u001b[0;32m----> 1\u001b[0;31m \u001b[0mreg_multi\u001b[0m\u001b[0;34m.\u001b[0m\u001b[0mscore\u001b[0m\u001b[0;34m(\u001b[0m\u001b[0mX\u001b[0m\u001b[0;34m[\u001b[0m\u001b[0;36m0\u001b[0m\u001b[0;34m:\u001b[0m\u001b[0;34m-\u001b[0m\u001b[0;36m12\u001b[0m\u001b[0;34m:\u001b[0m\u001b[0;36m12\u001b[0m\u001b[0;34m]\u001b[0m\u001b[0;34m,\u001b[0m\u001b[0mY_multi\u001b[0m\u001b[0;34m[\u001b[0m\u001b[0;36m0\u001b[0m\u001b[0;34m:\u001b[0m\u001b[0;34m-\u001b[0m\u001b[0;36m12\u001b[0m\u001b[0;34m:\u001b[0m\u001b[0;36m12\u001b[0m\u001b[0;34m]\u001b[0m\u001b[0;34m)\u001b[0m\u001b[0;34m\u001b[0m\u001b[0m\n\u001b[0m",
      "\u001b[0;32m/Users/mberges/anaconda3/lib/python3.5/site-packages/sklearn/base.py\u001b[0m in \u001b[0;36mscore\u001b[0;34m(self, X, y, sample_weight)\u001b[0m\n\u001b[1;32m    346\u001b[0m         \u001b[0;32mfrom\u001b[0m \u001b[0;34m.\u001b[0m\u001b[0mmetrics\u001b[0m \u001b[0;32mimport\u001b[0m \u001b[0mr2_score\u001b[0m\u001b[0;34m\u001b[0m\u001b[0m\n\u001b[1;32m    347\u001b[0m         return r2_score(y, self.predict(X), sample_weight=sample_weight,\n\u001b[0;32m--> 348\u001b[0;31m                         multioutput='variance_weighted')\n\u001b[0m\u001b[1;32m    349\u001b[0m \u001b[0;34m\u001b[0m\u001b[0m\n\u001b[1;32m    350\u001b[0m \u001b[0;34m\u001b[0m\u001b[0m\n",
      "\u001b[0;32m/Users/mberges/anaconda3/lib/python3.5/site-packages/sklearn/metrics/regression.py\u001b[0m in \u001b[0;36mr2_score\u001b[0;34m(y_true, y_pred, sample_weight, multioutput)\u001b[0m\n\u001b[1;32m    442\u001b[0m     \"\"\"\n\u001b[1;32m    443\u001b[0m     y_type, y_true, y_pred, multioutput = _check_reg_targets(\n\u001b[0;32m--> 444\u001b[0;31m         y_true, y_pred, multioutput)\n\u001b[0m\u001b[1;32m    445\u001b[0m \u001b[0;34m\u001b[0m\u001b[0m\n\u001b[1;32m    446\u001b[0m     \u001b[0;32mif\u001b[0m \u001b[0msample_weight\u001b[0m \u001b[0;32mis\u001b[0m \u001b[0;32mnot\u001b[0m \u001b[0;32mNone\u001b[0m\u001b[0;34m:\u001b[0m\u001b[0;34m\u001b[0m\u001b[0m\n",
      "\u001b[0;32m/Users/mberges/anaconda3/lib/python3.5/site-packages/sklearn/metrics/regression.py\u001b[0m in \u001b[0;36m_check_reg_targets\u001b[0;34m(y_true, y_pred, multioutput)\u001b[0m\n\u001b[1;32m     84\u001b[0m     \u001b[0;32mif\u001b[0m \u001b[0my_true\u001b[0m\u001b[0;34m.\u001b[0m\u001b[0mshape\u001b[0m\u001b[0;34m[\u001b[0m\u001b[0;36m1\u001b[0m\u001b[0;34m]\u001b[0m \u001b[0;34m!=\u001b[0m \u001b[0my_pred\u001b[0m\u001b[0;34m.\u001b[0m\u001b[0mshape\u001b[0m\u001b[0;34m[\u001b[0m\u001b[0;36m1\u001b[0m\u001b[0;34m]\u001b[0m\u001b[0;34m:\u001b[0m\u001b[0;34m\u001b[0m\u001b[0m\n\u001b[1;32m     85\u001b[0m         raise ValueError(\"y_true and y_pred have different number of output \"\n\u001b[0;32m---> 86\u001b[0;31m                          \"({0}!={1})\".format(y_true.shape[1], y_pred.shape[1]))\n\u001b[0m\u001b[1;32m     87\u001b[0m \u001b[0;34m\u001b[0m\u001b[0m\n\u001b[1;32m     88\u001b[0m     \u001b[0mn_outputs\u001b[0m \u001b[0;34m=\u001b[0m \u001b[0my_true\u001b[0m\u001b[0;34m.\u001b[0m\u001b[0mshape\u001b[0m\u001b[0;34m[\u001b[0m\u001b[0;36m1\u001b[0m\u001b[0;34m]\u001b[0m\u001b[0;34m\u001b[0m\u001b[0m\n",
      "\u001b[0;31mValueError\u001b[0m: y_true and y_pred have different number of output (12!=1)"
     ]
    }
   ],
   "source": [
    "reg_multi.score(X[0:-12:12],Y_multi[0:-12:12])"
   ]
  },
  {
   "cell_type": "code",
   "execution_count": null,
   "metadata": {
    "collapsed": false
   },
   "outputs": [],
   "source": [
    "plt.plot(reg_multi.predict(X[0:-12:12]).reshape(-1,1),'--r')\n",
    "plt.plot(alldata['Power'].values,'-b')"
   ]
  },
  {
   "cell_type": "code",
   "execution_count": 72,
   "metadata": {
    "collapsed": false
   },
   "outputs": [
    {
     "data": {
      "text/html": [
       "<div>\n",
       "<table border=\"1\" class=\"dataframe\">\n",
       "  <thead>\n",
       "    <tr style=\"text-align: right;\">\n",
       "      <th></th>\n",
       "      <th>Hour</th>\n",
       "      <th>Weekday</th>\n",
       "      <th>Temperature</th>\n",
       "    </tr>\n",
       "  </thead>\n",
       "  <tbody>\n",
       "    <tr>\n",
       "      <th>2013-11-10 05:00:00</th>\n",
       "      <td>5</td>\n",
       "      <td>6</td>\n",
       "      <td>54.607583</td>\n",
       "    </tr>\n",
       "    <tr>\n",
       "      <th>2013-11-10 06:00:00</th>\n",
       "      <td>6</td>\n",
       "      <td>6</td>\n",
       "      <td>53.736583</td>\n",
       "    </tr>\n",
       "    <tr>\n",
       "      <th>2013-11-10 07:00:00</th>\n",
       "      <td>7</td>\n",
       "      <td>6</td>\n",
       "      <td>52.801167</td>\n",
       "    </tr>\n",
       "    <tr>\n",
       "      <th>2013-11-10 08:00:00</th>\n",
       "      <td>8</td>\n",
       "      <td>6</td>\n",
       "      <td>51.805000</td>\n",
       "    </tr>\n",
       "    <tr>\n",
       "      <th>2013-11-10 09:00:00</th>\n",
       "      <td>9</td>\n",
       "      <td>6</td>\n",
       "      <td>51.072250</td>\n",
       "    </tr>\n",
       "    <tr>\n",
       "      <th>2013-11-10 10:00:00</th>\n",
       "      <td>10</td>\n",
       "      <td>6</td>\n",
       "      <td>49.692250</td>\n",
       "    </tr>\n",
       "    <tr>\n",
       "      <th>2013-11-10 11:00:00</th>\n",
       "      <td>11</td>\n",
       "      <td>6</td>\n",
       "      <td>48.170917</td>\n",
       "    </tr>\n",
       "    <tr>\n",
       "      <th>2013-11-10 12:00:00</th>\n",
       "      <td>12</td>\n",
       "      <td>6</td>\n",
       "      <td>47.515917</td>\n",
       "    </tr>\n",
       "    <tr>\n",
       "      <th>2013-11-10 13:00:00</th>\n",
       "      <td>13</td>\n",
       "      <td>6</td>\n",
       "      <td>46.866750</td>\n",
       "    </tr>\n",
       "    <tr>\n",
       "      <th>2013-11-10 14:00:00</th>\n",
       "      <td>14</td>\n",
       "      <td>6</td>\n",
       "      <td>46.413500</td>\n",
       "    </tr>\n",
       "    <tr>\n",
       "      <th>2013-11-10 15:00:00</th>\n",
       "      <td>15</td>\n",
       "      <td>6</td>\n",
       "      <td>46.173500</td>\n",
       "    </tr>\n",
       "    <tr>\n",
       "      <th>2013-11-10 16:00:00</th>\n",
       "      <td>16</td>\n",
       "      <td>6</td>\n",
       "      <td>46.286000</td>\n",
       "    </tr>\n",
       "    <tr>\n",
       "      <th>2013-11-10 17:00:00</th>\n",
       "      <td>17</td>\n",
       "      <td>6</td>\n",
       "      <td>45.352917</td>\n",
       "    </tr>\n",
       "    <tr>\n",
       "      <th>2013-11-10 18:00:00</th>\n",
       "      <td>18</td>\n",
       "      <td>6</td>\n",
       "      <td>45.191250</td>\n",
       "    </tr>\n",
       "    <tr>\n",
       "      <th>2013-11-10 19:00:00</th>\n",
       "      <td>19</td>\n",
       "      <td>6</td>\n",
       "      <td>44.960750</td>\n",
       "    </tr>\n",
       "    <tr>\n",
       "      <th>2013-11-10 20:00:00</th>\n",
       "      <td>20</td>\n",
       "      <td>6</td>\n",
       "      <td>44.673167</td>\n",
       "    </tr>\n",
       "    <tr>\n",
       "      <th>2013-11-10 21:00:00</th>\n",
       "      <td>21</td>\n",
       "      <td>6</td>\n",
       "      <td>44.366167</td>\n",
       "    </tr>\n",
       "    <tr>\n",
       "      <th>2013-11-10 22:00:00</th>\n",
       "      <td>22</td>\n",
       "      <td>6</td>\n",
       "      <td>44.502583</td>\n",
       "    </tr>\n",
       "    <tr>\n",
       "      <th>2013-11-10 23:00:00</th>\n",
       "      <td>23</td>\n",
       "      <td>6</td>\n",
       "      <td>44.373833</td>\n",
       "    </tr>\n",
       "    <tr>\n",
       "      <th>2013-11-11 00:00:00</th>\n",
       "      <td>0</td>\n",
       "      <td>0</td>\n",
       "      <td>43.853667</td>\n",
       "    </tr>\n",
       "    <tr>\n",
       "      <th>2013-11-11 01:00:00</th>\n",
       "      <td>1</td>\n",
       "      <td>0</td>\n",
       "      <td>43.308500</td>\n",
       "    </tr>\n",
       "    <tr>\n",
       "      <th>2013-11-11 02:00:00</th>\n",
       "      <td>2</td>\n",
       "      <td>0</td>\n",
       "      <td>42.612417</td>\n",
       "    </tr>\n",
       "    <tr>\n",
       "      <th>2013-11-11 03:00:00</th>\n",
       "      <td>3</td>\n",
       "      <td>0</td>\n",
       "      <td>41.878250</td>\n",
       "    </tr>\n",
       "    <tr>\n",
       "      <th>2013-11-11 04:00:00</th>\n",
       "      <td>4</td>\n",
       "      <td>0</td>\n",
       "      <td>40.764750</td>\n",
       "    </tr>\n",
       "    <tr>\n",
       "      <th>2013-11-11 05:00:00</th>\n",
       "      <td>5</td>\n",
       "      <td>0</td>\n",
       "      <td>40.040583</td>\n",
       "    </tr>\n",
       "    <tr>\n",
       "      <th>2013-11-11 06:00:00</th>\n",
       "      <td>6</td>\n",
       "      <td>0</td>\n",
       "      <td>39.407583</td>\n",
       "    </tr>\n",
       "    <tr>\n",
       "      <th>2013-11-11 07:00:00</th>\n",
       "      <td>7</td>\n",
       "      <td>0</td>\n",
       "      <td>37.872583</td>\n",
       "    </tr>\n",
       "    <tr>\n",
       "      <th>2013-11-11 08:00:00</th>\n",
       "      <td>8</td>\n",
       "      <td>0</td>\n",
       "      <td>37.396583</td>\n",
       "    </tr>\n",
       "    <tr>\n",
       "      <th>2013-11-11 09:00:00</th>\n",
       "      <td>9</td>\n",
       "      <td>0</td>\n",
       "      <td>36.425833</td>\n",
       "    </tr>\n",
       "    <tr>\n",
       "      <th>2013-11-11 10:00:00</th>\n",
       "      <td>10</td>\n",
       "      <td>0</td>\n",
       "      <td>35.503417</td>\n",
       "    </tr>\n",
       "    <tr>\n",
       "      <th>...</th>\n",
       "      <td>...</td>\n",
       "      <td>...</td>\n",
       "      <td>...</td>\n",
       "    </tr>\n",
       "    <tr>\n",
       "      <th>2014-11-09 17:00:00</th>\n",
       "      <td>17</td>\n",
       "      <td>6</td>\n",
       "      <td>47.126250</td>\n",
       "    </tr>\n",
       "    <tr>\n",
       "      <th>2014-11-09 18:00:00</th>\n",
       "      <td>18</td>\n",
       "      <td>6</td>\n",
       "      <td>48.884167</td>\n",
       "    </tr>\n",
       "    <tr>\n",
       "      <th>2014-11-09 19:00:00</th>\n",
       "      <td>19</td>\n",
       "      <td>6</td>\n",
       "      <td>50.559583</td>\n",
       "    </tr>\n",
       "    <tr>\n",
       "      <th>2014-11-09 20:00:00</th>\n",
       "      <td>20</td>\n",
       "      <td>6</td>\n",
       "      <td>51.020833</td>\n",
       "    </tr>\n",
       "    <tr>\n",
       "      <th>2014-11-09 21:00:00</th>\n",
       "      <td>21</td>\n",
       "      <td>6</td>\n",
       "      <td>50.233333</td>\n",
       "    </tr>\n",
       "    <tr>\n",
       "      <th>2014-11-09 22:00:00</th>\n",
       "      <td>22</td>\n",
       "      <td>6</td>\n",
       "      <td>48.404167</td>\n",
       "    </tr>\n",
       "    <tr>\n",
       "      <th>2014-11-09 23:00:00</th>\n",
       "      <td>23</td>\n",
       "      <td>6</td>\n",
       "      <td>47.989167</td>\n",
       "    </tr>\n",
       "    <tr>\n",
       "      <th>2014-11-10 00:00:00</th>\n",
       "      <td>0</td>\n",
       "      <td>0</td>\n",
       "      <td>47.797500</td>\n",
       "    </tr>\n",
       "    <tr>\n",
       "      <th>2014-11-10 01:00:00</th>\n",
       "      <td>1</td>\n",
       "      <td>0</td>\n",
       "      <td>48.281667</td>\n",
       "    </tr>\n",
       "    <tr>\n",
       "      <th>2014-11-10 02:00:00</th>\n",
       "      <td>2</td>\n",
       "      <td>0</td>\n",
       "      <td>47.917500</td>\n",
       "    </tr>\n",
       "    <tr>\n",
       "      <th>2014-11-10 03:00:00</th>\n",
       "      <td>3</td>\n",
       "      <td>0</td>\n",
       "      <td>47.670000</td>\n",
       "    </tr>\n",
       "    <tr>\n",
       "      <th>2014-11-10 04:00:00</th>\n",
       "      <td>4</td>\n",
       "      <td>0</td>\n",
       "      <td>47.642500</td>\n",
       "    </tr>\n",
       "    <tr>\n",
       "      <th>2014-11-10 05:00:00</th>\n",
       "      <td>5</td>\n",
       "      <td>0</td>\n",
       "      <td>47.500000</td>\n",
       "    </tr>\n",
       "    <tr>\n",
       "      <th>2014-11-10 06:00:00</th>\n",
       "      <td>6</td>\n",
       "      <td>0</td>\n",
       "      <td>47.235000</td>\n",
       "    </tr>\n",
       "    <tr>\n",
       "      <th>2014-11-10 07:00:00</th>\n",
       "      <td>7</td>\n",
       "      <td>0</td>\n",
       "      <td>46.403333</td>\n",
       "    </tr>\n",
       "    <tr>\n",
       "      <th>2014-11-10 08:00:00</th>\n",
       "      <td>8</td>\n",
       "      <td>0</td>\n",
       "      <td>45.560000</td>\n",
       "    </tr>\n",
       "    <tr>\n",
       "      <th>2014-11-10 09:00:00</th>\n",
       "      <td>9</td>\n",
       "      <td>0</td>\n",
       "      <td>45.375000</td>\n",
       "    </tr>\n",
       "    <tr>\n",
       "      <th>2014-11-10 10:00:00</th>\n",
       "      <td>10</td>\n",
       "      <td>0</td>\n",
       "      <td>44.737083</td>\n",
       "    </tr>\n",
       "    <tr>\n",
       "      <th>2014-11-10 11:00:00</th>\n",
       "      <td>11</td>\n",
       "      <td>0</td>\n",
       "      <td>43.673334</td>\n",
       "    </tr>\n",
       "    <tr>\n",
       "      <th>2014-11-10 12:00:00</th>\n",
       "      <td>12</td>\n",
       "      <td>0</td>\n",
       "      <td>44.982500</td>\n",
       "    </tr>\n",
       "    <tr>\n",
       "      <th>2014-11-10 13:00:00</th>\n",
       "      <td>13</td>\n",
       "      <td>0</td>\n",
       "      <td>48.499167</td>\n",
       "    </tr>\n",
       "    <tr>\n",
       "      <th>2014-11-10 14:00:00</th>\n",
       "      <td>14</td>\n",
       "      <td>0</td>\n",
       "      <td>51.720000</td>\n",
       "    </tr>\n",
       "    <tr>\n",
       "      <th>2014-11-10 15:00:00</th>\n",
       "      <td>15</td>\n",
       "      <td>0</td>\n",
       "      <td>55.223750</td>\n",
       "    </tr>\n",
       "    <tr>\n",
       "      <th>2014-11-10 16:00:00</th>\n",
       "      <td>16</td>\n",
       "      <td>0</td>\n",
       "      <td>58.567500</td>\n",
       "    </tr>\n",
       "    <tr>\n",
       "      <th>2014-11-10 17:00:00</th>\n",
       "      <td>17</td>\n",
       "      <td>0</td>\n",
       "      <td>60.640000</td>\n",
       "    </tr>\n",
       "    <tr>\n",
       "      <th>2014-11-10 18:00:00</th>\n",
       "      <td>18</td>\n",
       "      <td>0</td>\n",
       "      <td>63.654167</td>\n",
       "    </tr>\n",
       "    <tr>\n",
       "      <th>2014-11-10 19:00:00</th>\n",
       "      <td>19</td>\n",
       "      <td>0</td>\n",
       "      <td>65.135833</td>\n",
       "    </tr>\n",
       "    <tr>\n",
       "      <th>2014-11-10 20:00:00</th>\n",
       "      <td>20</td>\n",
       "      <td>0</td>\n",
       "      <td>66.253333</td>\n",
       "    </tr>\n",
       "    <tr>\n",
       "      <th>2014-11-10 21:00:00</th>\n",
       "      <td>21</td>\n",
       "      <td>0</td>\n",
       "      <td>65.109999</td>\n",
       "    </tr>\n",
       "    <tr>\n",
       "      <th>2014-11-10 22:00:00</th>\n",
       "      <td>22</td>\n",
       "      <td>0</td>\n",
       "      <td>59.866818</td>\n",
       "    </tr>\n",
       "  </tbody>\n",
       "</table>\n",
       "<p>8778 rows × 3 columns</p>\n",
       "</div>"
      ],
      "text/plain": [
       "                     Hour  Weekday  Temperature\n",
       "2013-11-10 05:00:00     5        6    54.607583\n",
       "2013-11-10 06:00:00     6        6    53.736583\n",
       "2013-11-10 07:00:00     7        6    52.801167\n",
       "2013-11-10 08:00:00     8        6    51.805000\n",
       "2013-11-10 09:00:00     9        6    51.072250\n",
       "2013-11-10 10:00:00    10        6    49.692250\n",
       "2013-11-10 11:00:00    11        6    48.170917\n",
       "2013-11-10 12:00:00    12        6    47.515917\n",
       "2013-11-10 13:00:00    13        6    46.866750\n",
       "2013-11-10 14:00:00    14        6    46.413500\n",
       "2013-11-10 15:00:00    15        6    46.173500\n",
       "2013-11-10 16:00:00    16        6    46.286000\n",
       "2013-11-10 17:00:00    17        6    45.352917\n",
       "2013-11-10 18:00:00    18        6    45.191250\n",
       "2013-11-10 19:00:00    19        6    44.960750\n",
       "2013-11-10 20:00:00    20        6    44.673167\n",
       "2013-11-10 21:00:00    21        6    44.366167\n",
       "2013-11-10 22:00:00    22        6    44.502583\n",
       "2013-11-10 23:00:00    23        6    44.373833\n",
       "2013-11-11 00:00:00     0        0    43.853667\n",
       "2013-11-11 01:00:00     1        0    43.308500\n",
       "2013-11-11 02:00:00     2        0    42.612417\n",
       "2013-11-11 03:00:00     3        0    41.878250\n",
       "2013-11-11 04:00:00     4        0    40.764750\n",
       "2013-11-11 05:00:00     5        0    40.040583\n",
       "2013-11-11 06:00:00     6        0    39.407583\n",
       "2013-11-11 07:00:00     7        0    37.872583\n",
       "2013-11-11 08:00:00     8        0    37.396583\n",
       "2013-11-11 09:00:00     9        0    36.425833\n",
       "2013-11-11 10:00:00    10        0    35.503417\n",
       "...                   ...      ...          ...\n",
       "2014-11-09 17:00:00    17        6    47.126250\n",
       "2014-11-09 18:00:00    18        6    48.884167\n",
       "2014-11-09 19:00:00    19        6    50.559583\n",
       "2014-11-09 20:00:00    20        6    51.020833\n",
       "2014-11-09 21:00:00    21        6    50.233333\n",
       "2014-11-09 22:00:00    22        6    48.404167\n",
       "2014-11-09 23:00:00    23        6    47.989167\n",
       "2014-11-10 00:00:00     0        0    47.797500\n",
       "2014-11-10 01:00:00     1        0    48.281667\n",
       "2014-11-10 02:00:00     2        0    47.917500\n",
       "2014-11-10 03:00:00     3        0    47.670000\n",
       "2014-11-10 04:00:00     4        0    47.642500\n",
       "2014-11-10 05:00:00     5        0    47.500000\n",
       "2014-11-10 06:00:00     6        0    47.235000\n",
       "2014-11-10 07:00:00     7        0    46.403333\n",
       "2014-11-10 08:00:00     8        0    45.560000\n",
       "2014-11-10 09:00:00     9        0    45.375000\n",
       "2014-11-10 10:00:00    10        0    44.737083\n",
       "2014-11-10 11:00:00    11        0    43.673334\n",
       "2014-11-10 12:00:00    12        0    44.982500\n",
       "2014-11-10 13:00:00    13        0    48.499167\n",
       "2014-11-10 14:00:00    14        0    51.720000\n",
       "2014-11-10 15:00:00    15        0    55.223750\n",
       "2014-11-10 16:00:00    16        0    58.567500\n",
       "2014-11-10 17:00:00    17        0    60.640000\n",
       "2014-11-10 18:00:00    18        0    63.654167\n",
       "2014-11-10 19:00:00    19        0    65.135833\n",
       "2014-11-10 20:00:00    20        0    66.253333\n",
       "2014-11-10 21:00:00    21        0    65.109999\n",
       "2014-11-10 22:00:00    22        0    59.866818\n",
       "\n",
       "[8778 rows x 3 columns]"
      ]
     },
     "execution_count": 72,
     "metadata": {},
     "output_type": "execute_result"
    }
   ],
   "source": []
  },
  {
   "cell_type": "code",
   "execution_count": null,
   "metadata": {
    "collapsed": true
   },
   "outputs": [],
   "source": []
  }
 ],
 "metadata": {
  "anaconda-cloud": {},
  "kernelspec": {
   "display_name": "Python [conda root]",
   "language": "python",
   "name": "conda-root-py"
  },
  "language_info": {
   "codemirror_mode": {
    "name": "ipython",
    "version": 3
   },
   "file_extension": ".py",
   "mimetype": "text/x-python",
   "name": "python",
   "nbconvert_exporter": "python",
   "pygments_lexer": "ipython3",
   "version": "3.5.2"
  }
 },
 "nbformat": 4,
 "nbformat_minor": 1
}
