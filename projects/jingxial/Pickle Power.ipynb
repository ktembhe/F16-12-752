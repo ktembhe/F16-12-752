{
 "cells": [
  {
   "cell_type": "markdown",
   "metadata": {},
   "source": [
    "# 12-752 F16 Project\n",
    "## Title?"
   ]
  },
  {
   "cell_type": "markdown",
   "metadata": {},
   "source": [
    "### Pickle data firstly."
   ]
  },
  {
   "cell_type": "code",
   "execution_count": 2,
   "metadata": {
    "collapsed": true
   },
   "outputs": [],
   "source": [
    "import numpy as np\n",
    "import matplotlib.pyplot as plt\n",
    "import pandas as pd\n",
    "import pickle\n",
    "\n",
    "%matplotlib inline"
   ]
  },
  {
   "cell_type": "code",
   "execution_count": 8,
   "metadata": {
    "collapsed": false
   },
   "outputs": [],
   "source": [
    "# Feature data pickled here\n"
   ]
  },
  {
   "cell_type": "code",
   "execution_count": 9,
   "metadata": {
    "collapsed": false
   },
   "outputs": [],
   "source": [
    "# Power data pickled here\n",
    "f = open('dataset/Electricity_P.csv')\n",
    "totalPower = pd.read_csv(f,sep=',', header='infer', parse_dates=[1])\n",
    "totalPower = totalPower.set_index('UNIX_TS')\n",
    "totalPower.index = pd.to_datetime(totalPower.index)\n",
    "powerWHE = totalPower\n",
    "powerWHE['Power'] = totalPower['WHE']\n",
    "powerWHE = pd.DataFrame(np.array(powerWHE['Power'],dtype=float),index=power.index, columns=['Power']).resample('5T').mean()\n",
    "\n",
    "import pickle\n",
    "\n",
    "pickle_file = open('dataset/Power.pkl','wb')\n",
    "pickle.dump([powerWHE,totalPower],pickle_file)\n",
    "pickle_file.close()\n"
   ]
  },
  {
   "cell_type": "code",
   "execution_count": null,
   "metadata": {
    "collapsed": true
   },
   "outputs": [],
   "source": []
  }
 ],
 "metadata": {
  "anaconda-cloud": {},
  "kernelspec": {
   "display_name": "Python [conda root]",
   "language": "python",
   "name": "conda-root-py"
  },
  "language_info": {
   "codemirror_mode": {
    "name": "ipython",
    "version": 3
   },
   "file_extension": ".py",
   "mimetype": "text/x-python",
   "name": "python",
   "nbconvert_exporter": "python",
   "pygments_lexer": "ipython3",
   "version": "3.5.2"
  }
 },
 "nbformat": 4,
 "nbformat_minor": 1
}
