{
 "cells": [
  {
   "cell_type": "code",
   "execution_count": 12,
   "metadata": {
    "collapsed": true
   },
   "outputs": [],
   "source": [
    "import numpy as np\n",
    "import matplotlib.pyplot as plt\n",
    "import pandas as pd\n",
    "import pickle\n",
    "\n",
    "%matplotlib inline"
   ]
  },
  {
   "cell_type": "code",
   "execution_count": 13,
   "metadata": {
    "collapsed": true
   },
   "outputs": [],
   "source": [
    "# read in data and extract out desired features.\n",
    "nature = pd.read_csv('dataset/Climate_HourlyWeather.csv')\n",
    "nature = nature[['Date/Time','Temp (C)','Visibility (km)','Stn Press (kPa)','Weather']]\n",
    "# rename\n",
    "nature = nature.rename(columns = {'Date/Time':'time', 'Temp (C)':'temperature','Stn Press (kPa)':'press',\n",
    "                                  'Weather':'weather','Visibility (km)':'visibility'})"
   ]
  },
  {
   "cell_type": "code",
   "execution_count": 14,
   "metadata": {
    "collapsed": false
   },
   "outputs": [],
   "source": [
    "nature = nature.set_index('time') \n",
    "nature.index = pd.to_datetime(nature.index)"
   ]
  },
  {
   "cell_type": "code",
   "execution_count": 15,
   "metadata": {
    "collapsed": true
   },
   "outputs": [],
   "source": [
    "pickle_file = open('dataset/nature.pkl','wb')\n",
    "pickle.dump(nature,pickle_file)\n",
    "pickle_file.close()"
   ]
  }
 ],
 "metadata": {
  "anaconda-cloud": {},
  "kernelspec": {
   "display_name": "Python [conda root]",
   "language": "python",
   "name": "conda-root-py"
  },
  "language_info": {
   "codemirror_mode": {
    "name": "ipython",
    "version": 3
   },
   "file_extension": ".py",
   "mimetype": "text/x-python",
   "name": "python",
   "nbconvert_exporter": "python",
   "pygments_lexer": "ipython3",
   "version": "3.5.2"
  }
 },
 "nbformat": 4,
 "nbformat_minor": 1
}
