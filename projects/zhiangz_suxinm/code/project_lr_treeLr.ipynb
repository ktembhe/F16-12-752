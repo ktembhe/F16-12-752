{
 "cells": [
  {
   "cell_type": "markdown",
   "metadata": {},
   "source": [
    "Load data, clean the data, combine separte data together, divide training data and test data."
   ]
  },
  {
   "cell_type": "code",
   "execution_count": 15,
   "metadata": {
    "collapsed": false
   },
   "outputs": [],
   "source": [
    "import numpy as np\n",
    "import matplotlib.pyplot as plt\n",
    "import pandas as pd\n",
    "\n",
    "#outdoor air temperature\n",
    "oa = pd.read_csv(\"../data/oa_temp_utc_f.csv\");\n",
    "oa.columns = ['time', 'oa']\n",
    "oa.set_index(\"time\", drop = True, inplace = True);\n",
    "\n",
    "oa.index = pd.to_datetime(oa.index)\n",
    "oa = oa.replace('/', np.nan)\n",
    "oa['oa'] = oa['oa'].astype(float)\n",
    "oa = oa.interpolate(method = \"time\")\n",
    "\n",
    "#relative humidity\n",
    "rh = pd.read_csv(\"../data/rh_utc_perct.csv\");\n",
    "rh.columns = ['time', 'rh']\n",
    "rh.set_index(\"time\", drop = True, inplace = True);\n",
    "\n",
    "rh.index = pd.to_datetime(rh.index)\n",
    "rh = rh.replace('/', np.nan)\n",
    "rh['rh'] = rh['rh'].astype(float)\n",
    "rh = rh.interpolate(method = \"time\")\n",
    "\n",
    "#solar radiation\n",
    "sr = pd.read_csv(\"../data/total_solar_utc_btuh-ft2.csv\");\n",
    "sr.columns = ['time', 'sr'];\n",
    "sr.set_index('time', drop = True, inplace = True);\n",
    "\n",
    "sr.index = pd.to_datetime(sr.index)\n",
    "sr = sr.replace('/', np.nan)\n",
    "sr['sr'] = sr['sr'].astype(float)\n",
    "sr = sr.interpolate(method = \"time\")\n",
    "#wind speed\n",
    "ws = pd.read_csv(\"../data/wind_speed_utc_mph.csv\");\n",
    "ws.columns = ['time', 'ws'];\n",
    "ws.set_index('time', drop = True, inplace = True);\n",
    "\n",
    "ws.index = pd.to_datetime(ws.index)\n",
    "ws = ws.replace('/', np.nan)\n",
    "ws['ws'] = ws['ws'].astype(float)\n",
    "ws = ws.interpolate(method = \"time\")\n",
    "#damper position of room 107n\n",
    "dp = pd.read_csv(\"../data/107n_damper_utc_0to7or10.csv\");\n",
    "dp.columns = ['time', 'dp'];\n",
    "dp.set_index('time', drop = True, inplace = True); \n",
    "\n",
    "dp.index = pd.to_datetime(dp.index)\n",
    "dp = dp.replace('/', np.nan)\n",
    "dp['dp'] = dp['dp'].astype(float)\n",
    "dp = dp.interpolate(method = \"time\")\n",
    "#some data has scale 0-10, some has scale 0-7, so transfer 0-7 to 0-10\n",
    "dpUpper = dp.loc['2014-06-26 00:10:00':'2015-02-02 14:40:00',:];\n",
    "dpLower = dp.loc['2015-02-02 14:50:00':,:]\n",
    "dpLower = dpLower.multiply(10.0/7.0, axis='columns');\n",
    "\n",
    "frames = [dpUpper, dpLower]\n",
    "dp = pd.concat(frames)\n",
    "\n",
    "#supply air temperature of room 107n\n",
    "st = pd.read_csv(\"../data/107n_vavtemp_utc_f.csv\");\n",
    "st.columns = ['time', 'st'];\n",
    "st.set_index('time', drop = True, inplace = True);\n",
    "\n",
    "st.index = pd.to_datetime(st.index)\n",
    "st = st.replace('/', np.nan)\n",
    "st['st'] = st['st'].astype(float)\n",
    "st = st.interpolate(method = \"time\");\n",
    "\n",
    "#indoor air temperature of 107n\n",
    "at = pd.read_csv(\"../data/107n_temp_utc_f.csv\");\n",
    "at.columns = ['time', 'at'];\n",
    "at.set_index('time', drop = True, inplace = True);\n",
    "\n",
    "at.index = pd.to_datetime(at.index)\n",
    "at = at.replace('/', np.nan)\n",
    "at['at'] = at['at'].astype(float)\n",
    "at = at.interpolate(method = \"time\");\n",
    "\n",
    "#merge together, change original utc time to local time\n",
    "allDataRaw = (oa.merge(rh,how = 'inner',left_index = True, right_index = True)\n",
    "              .merge(sr,how = 'inner',left_index = True, right_index = True)\n",
    "              .merge(ws,how = 'inner',left_index = True, right_index = True)\n",
    "              .merge(dp,how = 'inner',left_index = True, right_index = True)\n",
    "              .merge(st,how = 'inner',left_index = True, right_index = True)\n",
    "              .merge(at,how = 'inner',left_index = True, right_index = True));\n",
    "import pytz\n",
    "eastern = pytz.timezone('US/Eastern');\n",
    "origIndex = allDataRaw.index;\n",
    "newTimeIndex = origIndex.tz_localize(pytz.utc).tz_convert(eastern);\n",
    "allDataRaw.index = newTimeIndex;\n",
    "\n",
    "#add month, weekday, hour of day information\n",
    "allDataRaw['month'] = allDataRaw.index;\n",
    "allDataRaw['weekday'] = allDataRaw.index;\n",
    "allDataRaw['hour'] = allDataRaw.index;\n",
    "allDataRaw['month'] = (allDataRaw['month']\n",
    "                             .apply(lambda x: x.month))\n",
    "allDataRaw['weekday'] = (allDataRaw['weekday']\n",
    "                             .apply(lambda x: x.weekday()))\n",
    "allDataRaw['hour'] = (allDataRaw['hour']\n",
    "                             .apply(lambda x: x.hour));\n",
    "\n",
    "#seperate one year for train, one year for test\n",
    "train = allDataRaw.loc['2014-11-01 00:00:00':'2015-11-01 00:00:00',:];\n",
    "test = allDataRaw.loc['2015-11-01 00:10:00':'2016-11-01 00:10:00'];\n"
   ]
  },
  {
   "cell_type": "code",
   "execution_count": 16,
   "metadata": {
    "collapsed": true
   },
   "outputs": [],
   "source": [
    "from sklearn import tree\n",
    "from sklearn import svm\n",
    "from sklearn.cross_validation import cross_val_score\n",
    "from sklearn.cross_validation import cross_val_predict\n",
    "from sklearn import metrics"
   ]
  },
  {
   "cell_type": "markdown",
   "metadata": {},
   "source": [
    "## Linear Regression"
   ]
  },
  {
   "cell_type": "markdown",
   "metadata": {},
   "source": [
    "Train with the all year data using all input"
   ]
  },
  {
   "cell_type": "code",
   "execution_count": 17,
   "metadata": {
    "collapsed": false
   },
   "outputs": [
    {
     "data": {
      "text/html": [
       "<div>\n",
       "<table border=\"1\" class=\"dataframe\">\n",
       "  <thead>\n",
       "    <tr style=\"text-align: right;\">\n",
       "      <th></th>\n",
       "      <th>Train</th>\n",
       "      <th>Test</th>\n",
       "    </tr>\n",
       "  </thead>\n",
       "  <tbody>\n",
       "    <tr>\n",
       "      <th>0</th>\n",
       "      <td>-15.298957</td>\n",
       "      <td>-32.167091</td>\n",
       "    </tr>\n",
       "  </tbody>\n",
       "</table>\n",
       "</div>"
      ],
      "text/plain": [
       "       Train       Test\n",
       "0 -15.298957 -32.167091"
      ]
     },
     "execution_count": 17,
     "metadata": {},
     "output_type": "execute_result"
    }
   ],
   "source": [
    "# perform linear regresson using all data, all year round\n",
    "X_train = train.ix[:,0:6].as_matrix()\n",
    "X_test = test.ix[:,0:6].as_matrix()\n",
    "y_train = train.ix[:,6].as_matrix()\n",
    "y_test = test.ix[:,6].as_matrix()\n",
    "coef = np.dot(np.linalg.pinv(X_train),y_train)\n",
    "score = pd.DataFrame()\n",
    "score_train = 1- np.sum((y_train - np.dot(X_train,coef))**2)/np.sum((y_train-y_train.mean())**2)\n",
    "score_test = 1- np.sum((y_test - np.dot(X_test,coef))**2)/np.sum((y_test-y_test.mean())**2)\n",
    "score = score.append(pd.Series([score_train,score_test]),ignore_index=True)\n",
    "score.columns = ['Train', 'Test']\n",
    "score"
   ]
  },
  {
   "cell_type": "markdown",
   "metadata": {},
   "source": [
    "Train with separate month using all input"
   ]
  },
  {
   "cell_type": "code",
   "execution_count": 18,
   "metadata": {
    "collapsed": false
   },
   "outputs": [
    {
     "data": {
      "text/html": [
       "<div>\n",
       "<table border=\"1\" class=\"dataframe\">\n",
       "  <thead>\n",
       "    <tr style=\"text-align: right;\">\n",
       "      <th></th>\n",
       "      <th>Train</th>\n",
       "      <th>Test</th>\n",
       "    </tr>\n",
       "  </thead>\n",
       "  <tbody>\n",
       "    <tr>\n",
       "      <th>0</th>\n",
       "      <td>-11.988720</td>\n",
       "      <td>-30.525844</td>\n",
       "    </tr>\n",
       "    <tr>\n",
       "      <th>1</th>\n",
       "      <td>-10.868089</td>\n",
       "      <td>-26.167224</td>\n",
       "    </tr>\n",
       "    <tr>\n",
       "      <th>2</th>\n",
       "      <td>-24.475789</td>\n",
       "      <td>-14.728242</td>\n",
       "    </tr>\n",
       "    <tr>\n",
       "      <th>3</th>\n",
       "      <td>-11.878644</td>\n",
       "      <td>-13.027344</td>\n",
       "    </tr>\n",
       "    <tr>\n",
       "      <th>4</th>\n",
       "      <td>-9.843104</td>\n",
       "      <td>-13.282623</td>\n",
       "    </tr>\n",
       "    <tr>\n",
       "      <th>5</th>\n",
       "      <td>-16.808566</td>\n",
       "      <td>-15.962596</td>\n",
       "    </tr>\n",
       "    <tr>\n",
       "      <th>6</th>\n",
       "      <td>-2.841550</td>\n",
       "      <td>-13.368781</td>\n",
       "    </tr>\n",
       "    <tr>\n",
       "      <th>7</th>\n",
       "      <td>-1.351883</td>\n",
       "      <td>-33.274722</td>\n",
       "    </tr>\n",
       "    <tr>\n",
       "      <th>8</th>\n",
       "      <td>-6.654336</td>\n",
       "      <td>-8.900066</td>\n",
       "    </tr>\n",
       "    <tr>\n",
       "      <th>9</th>\n",
       "      <td>-7.477930</td>\n",
       "      <td>-8.457642</td>\n",
       "    </tr>\n",
       "    <tr>\n",
       "      <th>10</th>\n",
       "      <td>-4.903094</td>\n",
       "      <td>-10.583876</td>\n",
       "    </tr>\n",
       "    <tr>\n",
       "      <th>11</th>\n",
       "      <td>-14.837341</td>\n",
       "      <td>-41.550449</td>\n",
       "    </tr>\n",
       "  </tbody>\n",
       "</table>\n",
       "</div>"
      ],
      "text/plain": [
       "        Train       Test\n",
       "0  -11.988720 -30.525844\n",
       "1  -10.868089 -26.167224\n",
       "2  -24.475789 -14.728242\n",
       "3  -11.878644 -13.027344\n",
       "4   -9.843104 -13.282623\n",
       "5  -16.808566 -15.962596\n",
       "6   -2.841550 -13.368781\n",
       "7   -1.351883 -33.274722\n",
       "8   -6.654336  -8.900066\n",
       "9   -7.477930  -8.457642\n",
       "10  -4.903094 -10.583876\n",
       "11 -14.837341 -41.550449"
      ]
     },
     "execution_count": 18,
     "metadata": {},
     "output_type": "execute_result"
    }
   ],
   "source": [
    "# perform linear regression on all input, based on month\n",
    "score = pd.DataFrame()\n",
    "for i in range(1,13):\n",
    "    X_train = train[train.index.month==i].ix[:,0:6].as_matrix()\n",
    "    X_test = test[test.index.month==i].ix[:,0:6].as_matrix()\n",
    "    y_train = train[train.index.month==i].ix[:,6].as_matrix()\n",
    "    y_test = test[test.index.month==i].ix[:,6].as_matrix()\n",
    "    coef = np.dot(np.linalg.pinv(X_train),y_train)\n",
    "    score_train = 1- np.sum((y_train - np.dot(X_train,coef))**2)/np.sum((y_train-y_train.mean())**2)\n",
    "    score_test = 1- np.sum((y_test - np.dot(X_test,coef))**2)/np.sum((y_test-y_test.mean())**2)\n",
    "    score = score.append(pd.Series([score_train,score_test]),ignore_index=True)\n",
    "score.columns = ['Train', 'Test']\n",
    "score"
   ]
  },
  {
   "cell_type": "markdown",
   "metadata": {},
   "source": [
    "Train with separate month using outdoor temperature only"
   ]
  },
  {
   "cell_type": "code",
   "execution_count": 19,
   "metadata": {
    "collapsed": false,
    "scrolled": true
   },
   "outputs": [
    {
     "data": {
      "text/html": [
       "<div>\n",
       "<table border=\"1\" class=\"dataframe\">\n",
       "  <thead>\n",
       "    <tr style=\"text-align: right;\">\n",
       "      <th></th>\n",
       "      <th>Train</th>\n",
       "      <th>Test</th>\n",
       "    </tr>\n",
       "  </thead>\n",
       "  <tbody>\n",
       "    <tr>\n",
       "      <th>0</th>\n",
       "      <td>-1.067981</td>\n",
       "      <td>-3.447268</td>\n",
       "    </tr>\n",
       "    <tr>\n",
       "      <th>1</th>\n",
       "      <td>-3.040050</td>\n",
       "      <td>-3.514593</td>\n",
       "    </tr>\n",
       "    <tr>\n",
       "      <th>2</th>\n",
       "      <td>-0.756276</td>\n",
       "      <td>-2.043472</td>\n",
       "    </tr>\n",
       "    <tr>\n",
       "      <th>3</th>\n",
       "      <td>-0.323740</td>\n",
       "      <td>-0.910045</td>\n",
       "    </tr>\n",
       "    <tr>\n",
       "      <th>4</th>\n",
       "      <td>-0.516582</td>\n",
       "      <td>-0.998874</td>\n",
       "    </tr>\n",
       "    <tr>\n",
       "      <th>5</th>\n",
       "      <td>-0.641723</td>\n",
       "      <td>-0.878842</td>\n",
       "    </tr>\n",
       "    <tr>\n",
       "      <th>6</th>\n",
       "      <td>-0.618210</td>\n",
       "      <td>-0.541280</td>\n",
       "    </tr>\n",
       "    <tr>\n",
       "      <th>7</th>\n",
       "      <td>-0.589922</td>\n",
       "      <td>-0.776048</td>\n",
       "    </tr>\n",
       "    <tr>\n",
       "      <th>8</th>\n",
       "      <td>-0.659337</td>\n",
       "      <td>-0.729487</td>\n",
       "    </tr>\n",
       "    <tr>\n",
       "      <th>9</th>\n",
       "      <td>-0.733638</td>\n",
       "      <td>-0.927275</td>\n",
       "    </tr>\n",
       "    <tr>\n",
       "      <th>10</th>\n",
       "      <td>-1.457076</td>\n",
       "      <td>-0.698790</td>\n",
       "    </tr>\n",
       "    <tr>\n",
       "      <th>11</th>\n",
       "      <td>-0.142886</td>\n",
       "      <td>-1.487784</td>\n",
       "    </tr>\n",
       "  </tbody>\n",
       "</table>\n",
       "</div>"
      ],
      "text/plain": [
       "       Train      Test\n",
       "0  -1.067981 -3.447268\n",
       "1  -3.040050 -3.514593\n",
       "2  -0.756276 -2.043472\n",
       "3  -0.323740 -0.910045\n",
       "4  -0.516582 -0.998874\n",
       "5  -0.641723 -0.878842\n",
       "6  -0.618210 -0.541280\n",
       "7  -0.589922 -0.776048\n",
       "8  -0.659337 -0.729487\n",
       "9  -0.733638 -0.927275\n",
       "10 -1.457076 -0.698790\n",
       "11 -0.142886 -1.487784"
      ]
     },
     "execution_count": 19,
     "metadata": {},
     "output_type": "execute_result"
    }
   ],
   "source": [
    "# using temperature only, based on month\n",
    "score = pd.DataFrame()\n",
    "for i in range(1,13):\n",
    "    X_train = train[train.index.month==i].ix[:,0:1].as_matrix()\n",
    "    X_test = test[test.index.month==i].ix[:,0:1].as_matrix()\n",
    "    y_train = train[train.index.month==i].ix[:,1].as_matrix()\n",
    "    y_test = test[test.index.month==i].ix[:,1].as_matrix()\n",
    "    coef = np.dot(np.linalg.pinv(X_train),y_train)\n",
    "    score_train = 1- np.sum((y_train - np.dot(X_train,coef))**2)/np.sum((y_train-y_train.mean())**2)\n",
    "    score_test = 1- np.sum((y_test - np.dot(X_test,coef))**2)/np.sum((y_test-y_test.mean())**2)\n",
    "    score = score.append(pd.Series([score_train,score_test]),ignore_index=True)\n",
    "score.columns = ['Train', 'Test']\n",
    "score"
   ]
  },
  {
   "cell_type": "markdown",
   "metadata": {},
   "source": [
    "Train with seasonal data using outdoor temperature only"
   ]
  },
  {
   "cell_type": "code",
   "execution_count": 20,
   "metadata": {
    "collapsed": false,
    "scrolled": true
   },
   "outputs": [
    {
     "data": {
      "text/html": [
       "<div>\n",
       "<table border=\"1\" class=\"dataframe\">\n",
       "  <thead>\n",
       "    <tr style=\"text-align: right;\">\n",
       "      <th></th>\n",
       "      <th>Train</th>\n",
       "      <th>Test</th>\n",
       "    </tr>\n",
       "  </thead>\n",
       "  <tbody>\n",
       "    <tr>\n",
       "      <th>0</th>\n",
       "      <td>-1.541444</td>\n",
       "      <td>-3.193557</td>\n",
       "    </tr>\n",
       "    <tr>\n",
       "      <th>1</th>\n",
       "      <td>-0.311411</td>\n",
       "      <td>-0.615982</td>\n",
       "    </tr>\n",
       "    <tr>\n",
       "      <th>2</th>\n",
       "      <td>-0.621868</td>\n",
       "      <td>-0.636577</td>\n",
       "    </tr>\n",
       "    <tr>\n",
       "      <th>3</th>\n",
       "      <td>-1.073444</td>\n",
       "      <td>-0.763594</td>\n",
       "    </tr>\n",
       "  </tbody>\n",
       "</table>\n",
       "</div>"
      ],
      "text/plain": [
       "      Train      Test\n",
       "0 -1.541444 -3.193557\n",
       "1 -0.311411 -0.615982\n",
       "2 -0.621868 -0.636577\n",
       "3 -1.073444 -0.763594"
      ]
     },
     "execution_count": 20,
     "metadata": {},
     "output_type": "execute_result"
    }
   ],
   "source": [
    "# perform linear regression with temperature only, based on season (1-3, 4-6, 7-9, 10-12)\n",
    "score = pd.DataFrame()\n",
    "for i in range(4):\n",
    "    X_train = train[np.logical_and(train.index.month>i*3, train.index.month<i*3+4)].ix[:,0:1].as_matrix()\n",
    "    X_test = test[np.logical_and(test.index.month>i*3, test.index.month<i*3+4)].ix[:,0:1].as_matrix()\n",
    "    y_train = train[np.logical_and(train.index.month>i*3, train.index.month<i*3+4)].ix[:,1].as_matrix()\n",
    "    y_test = test[np.logical_and(test.index.month>i*3, test.index.month<i*3+4)].ix[:,1].as_matrix()\n",
    "    coef = np.dot(np.linalg.pinv(X_train),y_train)\n",
    "    score_train = 1- np.sum((y_train - np.dot(X_train,coef))**2)/np.sum((y_train-y_train.mean())**2)\n",
    "    score_test = 1- np.sum((y_test - np.dot(X_test,coef))**2)/np.sum((y_test-y_test.mean())**2)\n",
    "    score = score.append(pd.Series([score_train,score_test]),ignore_index=True)\n",
    "score.columns = ['Train', 'Test']\n",
    "score"
   ]
  },
  {
   "cell_type": "markdown",
   "metadata": {},
   "source": [
    "## Regression Tree"
   ]
  },
  {
   "cell_type": "markdown",
   "metadata": {},
   "source": [
    "Train with all data using all input"
   ]
  },
  {
   "cell_type": "code",
   "execution_count": 21,
   "metadata": {
    "collapsed": false,
    "scrolled": true
   },
   "outputs": [
    {
     "name": "stdout",
     "output_type": "stream",
     "text": [
      "The test score is 0.502956922991\n"
     ]
    },
    {
     "data": {
      "text/html": [
       "<div>\n",
       "<table border=\"1\" class=\"dataframe\">\n",
       "  <thead>\n",
       "    <tr style=\"text-align: right;\">\n",
       "      <th></th>\n",
       "      <th>oa</th>\n",
       "      <th>rh</th>\n",
       "      <th>sr</th>\n",
       "      <th>ws</th>\n",
       "      <th>dp</th>\n",
       "      <th>st</th>\n",
       "    </tr>\n",
       "  </thead>\n",
       "  <tbody>\n",
       "    <tr>\n",
       "      <th>feature importance</th>\n",
       "      <td>0.833288</td>\n",
       "      <td>0.042757</td>\n",
       "      <td>0.032674</td>\n",
       "      <td>0.00788</td>\n",
       "      <td>0.010299</td>\n",
       "      <td>0.073103</td>\n",
       "    </tr>\n",
       "  </tbody>\n",
       "</table>\n",
       "</div>"
      ],
      "text/plain": [
       "                          oa        rh        sr       ws        dp        st\n",
       "feature importance  0.833288  0.042757  0.032674  0.00788  0.010299  0.073103"
      ]
     },
     "execution_count": 21,
     "metadata": {},
     "output_type": "execute_result"
    }
   ],
   "source": [
    "# confiture features and output\n",
    "X_train = train.ix[:,0:6].copy()\n",
    "X_test = test.ix[:,0:6].copy()\n",
    "y_train = train.ix[:,6].copy()\n",
    "y_test = test.ix[:,6].copy()\n",
    "# train the regression tree\n",
    "reg_tree = tree.DecisionTreeRegressor()\n",
    "reg_tree.fit(X_train,y_train)\n",
    "result = reg_tree.feature_importances_\n",
    "# test the regression tree with test data\n",
    "print('The test score is '+ str(reg_tree.score(X_test,y_test)))\n",
    "# present the feature importantce\n",
    "feature_importance = pd.DataFrame()\n",
    "feature_importance = feature_importance.append(pd.Series(result),ignore_index=True)\n",
    "feature_importance.columns = ['oa', 'rh', 'sr', 'ws', 'dp', 'st']\n",
    "feature_importance.index = ['feature importance']\n",
    "feature_importance"
   ]
  },
  {
   "cell_type": "code",
   "execution_count": 23,
   "metadata": {
    "collapsed": false
   },
   "outputs": [
    {
     "data": {
      "image/png": "[encoded data removed]",
      "text/plain": [
       "<matplotlib.figure.Figure at 0x185f515d828>"
      ]
     },
     "metadata": {},
     "output_type": "display_data"
    }
   ],
   "source": [
    "fig,ax = plt.subplots(facecolor='w')\n",
    "ax.scatter(reg_tree.predict(X_test),y_test, color='b',label='Decision Regression Tree Using All Features')\n",
    "ax.set_xlabel('Predicted value for Test Data')\n",
    "ax.set_ylabel('True value for Test Data')\n",
    "ax.legend()\n",
    "plt.show()"
   ]
  },
  {
   "cell_type": "code",
   "execution_count": 53,
   "metadata": {
    "collapsed": false
   },
   "outputs": [
    {
     "data": {
      "image/png": "[encoded data removed]",
      "text/plain": [
       "<matplotlib.figure.Figure at 0x185863227f0>"
      ]
     },
     "metadata": {},
     "output_type": "display_data"
    }
   ],
   "source": [
    "fig,ax = plt.subplots(facecolor='w')\n",
    "num = len(test[test.index.month==1].index)\n",
    "x = np.linspace(1,num,num)\n",
    "ax.plot(x,test[test.index.month==1]['at'],color='r',label='True Value')\n",
    "ax.plot(x,reg_tree.predict(X_test[X_test.index.month==1]),color='b',label='Predicted Value')\n",
    "ax.legend()\n",
    "ax.set_xlabel('2016-01-01 to 2016-01-31')\n",
    "ax.set_ylabel('Indoor Air Temperature (F)')\n",
    "plt.show()"
   ]
  },
  {
   "cell_type": "markdown",
   "metadata": {},
   "source": [
    "Train with all data using outdoor temperature only"
   ]
  },
  {
   "cell_type": "code",
   "execution_count": 54,
   "metadata": {
    "collapsed": false,
    "scrolled": false
   },
   "outputs": [
    {
     "name": "stdout",
     "output_type": "stream",
     "text": [
      "The test score is 0.4291\n"
     ]
    }
   ],
   "source": [
    "# use only temeprature to train \n",
    "\n",
    "# confiture features and output\n",
    "X_train = train.ix[:,0:1].copy()\n",
    "X_test = test.ix[:,0:1].copy()\n",
    "y_train = train.ix[:,6].copy()\n",
    "y_test = test.ix[:,6].copy()\n",
    "# train the regression tree\n",
    "reg_tree = tree.DecisionTreeRegressor()\n",
    "reg_tree.fit(X_train,y_train)\n",
    "result = reg_tree.feature_importances_\n",
    "# test the regression tree with test data\n",
    "print('The test score is '+ '%.4f'% reg_tree.score(X_test,y_test))"
   ]
  },
  {
   "cell_type": "markdown",
   "metadata": {},
   "source": [
    "Train with separete month using all data"
   ]
  },
  {
   "cell_type": "code",
   "execution_count": 55,
   "metadata": {
    "collapsed": false,
    "scrolled": false
   },
   "outputs": [
    {
     "name": "stdout",
     "output_type": "stream",
     "text": [
      "The test score of month 1 is 1.0000 using training data, -1.4847 using testing data.\n",
      "The test score of month 2 is 1.0000 using training data, -1.0308 using testing data.\n",
      "The test score of month 3 is 1.0000 using training data, -0.2435 using testing data.\n",
      "The test score of month 4 is 1.0000 using training data, -0.0223 using testing data.\n",
      "The test score of month 5 is 1.0000 using training data, 0.4227 using testing data.\n",
      "The test score of month 6 is 1.0000 using training data, 0.4087 using testing data.\n",
      "The test score of month 7 is 1.0000 using training data, -1.3116 using testing data.\n",
      "The test score of month 8 is 1.0000 using training data, -0.6487 using testing data.\n",
      "The test score of month 9 is 1.0000 using training data, -0.1311 using testing data.\n",
      "The test score of month 10 is 1.0000 using training data, -0.0039 using testing data.\n",
      "The test score of month 11 is 1.0000 using training data, 0.0366 using testing data.\n",
      "The test score of month 12 is 1.0000 using training data, -0.1731 using testing data.\n"
     ]
    }
   ],
   "source": [
    "# use data from a particular month to train \n",
    "feature_importance = pd.DataFrame()\n",
    "\n",
    "for i in range(1,13):\n",
    "    # confiture features and output\n",
    "    X_train = train[train.index.month==i].ix[:,0:6].copy()\n",
    "    X_test = test[test.index.month==i].ix[:,0:6].copy()\n",
    "    y_train = train[train.index.month==i].ix[:,6].copy()\n",
    "    y_test = test[test.index.month==i].ix[:,6].copy()\n",
    "    # train the regression tree\n",
    "    reg_tree = tree.DecisionTreeRegressor()\n",
    "    reg_tree.fit(X_train,y_train)\n",
    "    result = reg_tree.feature_importances_\n",
    "    # test the regression tree with test data\n",
    "    print('The test score of month ' +str(i)+' is '+ '%.4f'% reg_tree.score(X_train,y_train)+' using training data, '+'%.4f'% reg_tree.score(X_test,y_test)+' using testing data.')\n",
    "    # present the feature importantce\n",
    "    feature_importance = feature_importance.append(pd.Series(result),ignore_index=True)\n",
    "\n",
    "feature_importance.columns = ['oa', 'rh', 'sr', 'ws', 'dp', 'st']\n",
    "#feature_importance"
   ]
  }
 ],
 "metadata": {
  "anaconda-cloud": {},
  "kernelspec": {
   "display_name": "Python [default]",
   "language": "python",
   "name": "python3"
  },
  "language_info": {
   "codemirror_mode": {
    "name": "ipython",
    "version": 3
   },
   "file_extension": ".py",
   "mimetype": "text/x-python",
   "name": "python",
   "nbconvert_exporter": "python",
   "pygments_lexer": "ipython3",
   "version": "3.5.2"
  }
 },
 "nbformat": 4,
 "nbformat_minor": 1
}
